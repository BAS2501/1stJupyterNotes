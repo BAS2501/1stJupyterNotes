{
 "cells": [
  {
   "cell_type": "code",
   "execution_count": null,
   "id": "a9f46ce5",
   "metadata": {},
   "outputs": [],
   "source": [
    "print(\"hello world from Jupyter!\")"
   ]
  },
  {
   "cell_type": "code",
   "execution_count": null,
   "id": "9d7b5f37",
   "metadata": {},
   "outputs": [],
   "source": [
    "import time\n",
    "time.sleep(4)"
   ]
  },
  {
   "cell_type": "code",
   "execution_count": null,
   "id": "907459a3",
   "metadata": {},
   "outputs": [],
   "source": [
    "def say_hello(name): \n",
    "    return 'Hello, {}'.format(name)"
   ]
  },
  {
   "cell_type": "code",
   "execution_count": null,
   "id": "7528bcdf",
   "metadata": {},
   "outputs": [],
   "source": [
    "say_hello('Blade')"
   ]
  },
  {
   "cell_type": "code",
   "execution_count": null,
   "id": "5a6fa89c",
   "metadata": {},
   "outputs": [],
   "source": [
    "num1 = 10\n",
    "num2 = 7"
   ]
  },
  {
   "cell_type": "code",
   "execution_count": null,
   "id": "b60caafc",
   "metadata": {},
   "outputs": [],
   "source": [
    "x = num1 - num2\n",
    "print(x)"
   ]
  },
  {
   "cell_type": "markdown",
   "id": "38c17809",
   "metadata": {},
   "source": [
    "# This is heading 1\n",
    "## This is heading 2\n",
    "**This is bold text** or __This is also bold text__\n",
    "*This is italic* or _This is also italic_\n",
    "you can also create lists:\n",
    "* item 1 in bullets \n",
    "* item 2 in bullets\n",
    "you can also create number lists:\n",
    "1. item 1 in numeric list\n",
    "2. item 2 in numeric list \n",
    "\n",
    "[this is a link to TLU website](http://www.tlu.edu)"
   ]
  },
  {
   "cell_type": "code",
   "execution_count": null,
   "id": "4de6a561",
   "metadata": {},
   "outputs": [],
   "source": [
    "import numpy as np\n",
    "def square(x):\n",
    "    return x*x"
   ]
  },
  {
   "cell_type": "code",
   "execution_count": null,
   "id": "1f6fdffb",
   "metadata": {},
   "outputs": [],
   "source": [
    "x = np.random.randint(1,10)\n",
    "y = square(x)\n",
    "print('%d squared is: %d' % (x,y))"
   ]
  }
 ],
 "metadata": {
  "kernelspec": {
   "display_name": "Python 3 (ipykernel)",
   "language": "python",
   "name": "python3"
  },
  "language_info": {
   "codemirror_mode": {
    "name": "ipython",
    "version": 3
   },
   "file_extension": ".py",
   "mimetype": "text/x-python",
   "name": "python",
   "nbconvert_exporter": "python",
   "pygments_lexer": "ipython3",
   "version": "3.9.7"
  }
 },
 "nbformat": 4,
 "nbformat_minor": 5
}
